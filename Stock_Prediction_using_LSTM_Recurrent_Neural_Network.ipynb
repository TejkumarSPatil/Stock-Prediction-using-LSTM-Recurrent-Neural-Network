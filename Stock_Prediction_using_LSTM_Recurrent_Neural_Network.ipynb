{
  "nbformat": 4,
  "nbformat_minor": 0,
  "metadata": {
    "colab": {
      "name": "Stock Prediction using LSTM Recurrent Neural Network.ipynb",
      "provenance": []
    },
    "kernelspec": {
      "name": "python3",
      "display_name": "Python 3"
    },
    "accelerator": "GPU"
  },
  "cells": [
    {
      "cell_type": "code",
      "metadata": {
        "id": "muxX0YKD-1Rq",
        "colab_type": "code",
        "colab": {}
      },
      "source": [
        "# LSTM networks are a type of RNN that uses special units in addition to standard units. \n",
        "# LSTM units include a 'memory cell' that can maintain information in memory for long periods of time."
      ],
      "execution_count": 0,
      "outputs": []
    },
    {
      "cell_type": "code",
      "metadata": {
        "id": "x0MCWGsc-_An",
        "colab_type": "code",
        "colab": {
          "base_uri": "https://localhost:8080/",
          "height": 122
        },
        "outputId": "88683b4c-829c-4726-f1a7-5e4a08776519"
      },
      "source": [
        "from google.colab import drive\n",
        "drive.mount('/content/drive')"
      ],
      "execution_count": 1,
      "outputs": [
        {
          "output_type": "stream",
          "text": [
            "Go to this URL in a browser: https://accounts.google.com/o/oauth2/auth?client_id=947318989803-6bn6qk8qdgf4n4g3pfee6491hc0brc4i.apps.googleusercontent.com&redirect_uri=urn%3aietf%3awg%3aoauth%3a2.0%3aoob&response_type=code&scope=email%20https%3a%2f%2fwww.googleapis.com%2fauth%2fdocs.test%20https%3a%2f%2fwww.googleapis.com%2fauth%2fdrive%20https%3a%2f%2fwww.googleapis.com%2fauth%2fdrive.photos.readonly%20https%3a%2f%2fwww.googleapis.com%2fauth%2fpeopleapi.readonly\n",
            "\n",
            "Enter your authorization code:\n",
            "··········\n",
            "Mounted at /content/drive\n"
          ],
          "name": "stdout"
        }
      ]
    },
    {
      "cell_type": "code",
      "metadata": {
        "id": "AA0vo4QzRk6T",
        "colab_type": "code",
        "colab": {}
      },
      "source": [
        "# \n",
        "# Part 1 - Data Preprocessing"
      ],
      "execution_count": 0,
      "outputs": []
    },
    {
      "cell_type": "code",
      "metadata": {
        "id": "U0gv_71Z-_mD",
        "colab_type": "code",
        "colab": {}
      },
      "source": [
        "# here take 2 years of data from company and predict next month of data\n",
        "import numpy as np\n",
        "import matplotlib.pyplot as plt\n",
        "import pandas as pd"
      ],
      "execution_count": 0,
      "outputs": []
    },
    {
      "cell_type": "code",
      "metadata": {
        "id": "gRc918q0B0Mc",
        "colab_type": "code",
        "colab": {
          "base_uri": "https://localhost:8080/",
          "height": 204
        },
        "outputId": "6593a1da-dda6-45da-eba3-3b7c4ae99cba"
      },
      "source": [
        "dataset_train1=pd.read_csv(\"/content/drive/My Drive/Colab Notebooks/Stock Prediction using LSTM Recurrent Neural Network_googledta/trainset.csv\")\n",
        "dataset_train=dataset_train1.drop([\"Adj Close\"],axis=1)\n",
        "dataset_train.head()"
      ],
      "execution_count": 5,
      "outputs": [
        {
          "output_type": "execute_result",
          "data": {
            "text/html": [
              "<div>\n",
              "<style scoped>\n",
              "    .dataframe tbody tr th:only-of-type {\n",
              "        vertical-align: middle;\n",
              "    }\n",
              "\n",
              "    .dataframe tbody tr th {\n",
              "        vertical-align: top;\n",
              "    }\n",
              "\n",
              "    .dataframe thead th {\n",
              "        text-align: right;\n",
              "    }\n",
              "</style>\n",
              "<table border=\"1\" class=\"dataframe\">\n",
              "  <thead>\n",
              "    <tr style=\"text-align: right;\">\n",
              "      <th></th>\n",
              "      <th>Date</th>\n",
              "      <th>Open</th>\n",
              "      <th>High</th>\n",
              "      <th>Low</th>\n",
              "      <th>Close</th>\n",
              "      <th>Volume</th>\n",
              "    </tr>\n",
              "  </thead>\n",
              "  <tbody>\n",
              "    <tr>\n",
              "      <th>0</th>\n",
              "      <td>2013-01-02</td>\n",
              "      <td>357.385559</td>\n",
              "      <td>361.151062</td>\n",
              "      <td>355.959839</td>\n",
              "      <td>359.288177</td>\n",
              "      <td>5115500</td>\n",
              "    </tr>\n",
              "    <tr>\n",
              "      <th>1</th>\n",
              "      <td>2013-01-03</td>\n",
              "      <td>360.122742</td>\n",
              "      <td>363.600128</td>\n",
              "      <td>358.031342</td>\n",
              "      <td>359.496826</td>\n",
              "      <td>4666500</td>\n",
              "    </tr>\n",
              "    <tr>\n",
              "      <th>2</th>\n",
              "      <td>2013-01-04</td>\n",
              "      <td>362.313507</td>\n",
              "      <td>368.339294</td>\n",
              "      <td>361.488861</td>\n",
              "      <td>366.600616</td>\n",
              "      <td>5562800</td>\n",
              "    </tr>\n",
              "    <tr>\n",
              "      <th>3</th>\n",
              "      <td>2013-01-07</td>\n",
              "      <td>365.348755</td>\n",
              "      <td>367.301056</td>\n",
              "      <td>362.929504</td>\n",
              "      <td>365.001007</td>\n",
              "      <td>3332900</td>\n",
              "    </tr>\n",
              "    <tr>\n",
              "      <th>4</th>\n",
              "      <td>2013-01-08</td>\n",
              "      <td>365.393463</td>\n",
              "      <td>365.771027</td>\n",
              "      <td>359.874359</td>\n",
              "      <td>364.280701</td>\n",
              "      <td>3373900</td>\n",
              "    </tr>\n",
              "  </tbody>\n",
              "</table>\n",
              "</div>"
            ],
            "text/plain": [
              "         Date        Open        High         Low       Close   Volume\n",
              "0  2013-01-02  357.385559  361.151062  355.959839  359.288177  5115500\n",
              "1  2013-01-03  360.122742  363.600128  358.031342  359.496826  4666500\n",
              "2  2013-01-04  362.313507  368.339294  361.488861  366.600616  5562800\n",
              "3  2013-01-07  365.348755  367.301056  362.929504  365.001007  3332900\n",
              "4  2013-01-08  365.393463  365.771027  359.874359  364.280701  3373900"
            ]
          },
          "metadata": {
            "tags": []
          },
          "execution_count": 5
        }
      ]
    },
    {
      "cell_type": "code",
      "metadata": {
        "id": "q_CuLvlJCJqj",
        "colab_type": "code",
        "colab": {
          "base_uri": "https://localhost:8080/",
          "height": 136
        },
        "outputId": "d8feda39-d9dc-4aa8-f2d0-89d3b3fa186f"
      },
      "source": [
        "# here we consider only open column to predict next month of data\n",
        "training_set=dataset_train.iloc[:,1:2].values\n",
        "training_set\n"
      ],
      "execution_count": 12,
      "outputs": [
        {
          "output_type": "execute_result",
          "data": {
            "text/plain": [
              "array([[ 357.385559],\n",
              "       [ 360.122742],\n",
              "       [ 362.313507],\n",
              "       ...,\n",
              "       [1057.390015],\n",
              "       [1051.599976],\n",
              "       [1046.719971]])"
            ]
          },
          "metadata": {
            "tags": []
          },
          "execution_count": 12
        }
      ]
    },
    {
      "cell_type": "code",
      "metadata": {
        "id": "oA93MA9BDJKx",
        "colab_type": "code",
        "colab": {
          "base_uri": "https://localhost:8080/",
          "height": 585
        },
        "outputId": "2a5357d1-84a1-4f16-f60f-21d1dcc19da7"
      },
      "source": [
        "# If the distribution is not Gaussian or the standard deviation is very small, the min-max scaler works better.\n",
        "import seaborn as sns\n",
        "fig,ax1 = plt.subplots(1,1, figsize=(8,8))\n",
        "sns.distplot(dataset_train[\"Open\"],ax=ax1)\n",
        "plt.tight_layout()"
      ],
      "execution_count": 15,
      "outputs": [
        {
          "output_type": "display_data",
          "data": {
            "image/png": "[encoded data removed]",
            "text/plain": [
              "<Figure size 576x576 with 1 Axes>"
            ]
          },
          "metadata": {
            "tags": []
          }
        }
      ]
    },
    {
      "cell_type": "code",
      "metadata": {
        "id": "f_mBXqOpHJsd",
        "colab_type": "code",
        "colab": {
          "base_uri": "https://localhost:8080/",
          "height": 136
        },
        "outputId": "681b4331-fcaa-4e14-da18-f2d525c20a3f"
      },
      "source": [
        "# feacture scaling = data scale between 0 to 1(all data in same scale)\n",
        "from sklearn.preprocessing import MinMaxScaler\n",
        "sc=MinMaxScaler(feature_range=(0,1))\n",
        "training_set_scaled=sc.fit_transform(training_set)\n",
        "training_set_scaled\n"
      ],
      "execution_count": 16,
      "outputs": [
        {
          "output_type": "execute_result",
          "data": {
            "text/plain": [
              "array([[0.01011148],\n",
              "       [0.01388614],\n",
              "       [0.01690727],\n",
              "       ...,\n",
              "       [0.97543954],\n",
              "       [0.9674549 ],\n",
              "       [0.96072522]])"
            ]
          },
          "metadata": {
            "tags": []
          },
          "execution_count": 16
        }
      ]
    },
    {
      "cell_type": "code",
      "metadata": {
        "id": "47qKwY6XINdo",
        "colab_type": "code",
        "colab": {}
      },
      "source": [
        "# Creating a data structure with 60 timesteps and 1 output\n",
        "# rnn is works based on timesteps\n",
        "# where outputs from previous time steps( ie, 60) are taken as inputs for the current time step \n",
        "# it should be 20,30,60 etc\n",
        "X_train = []\n",
        "y_train = []\n",
        "for i in range(60, 1258):\n",
        "    X_train.append(training_set_scaled[i-60:i, 0])\n",
        "    y_train.append(training_set_scaled[i, 0])\n",
        "X_train, y_train = np.array(X_train), np.array(y_train)"
      ],
      "execution_count": 0,
      "outputs": []
    },
    {
      "cell_type": "code",
      "metadata": {
        "id": "RtAbQrsqLfJo",
        "colab_type": "code",
        "colab": {
          "base_uri": "https://localhost:8080/",
          "height": 238
        },
        "outputId": "ac9f7df4-af37-456a-ff05-5103158efe4b"
      },
      "source": [
        "X_train"
      ],
      "execution_count": 19,
      "outputs": [
        {
          "output_type": "execute_result",
          "data": {
            "text/plain": [
              "array([[0.01011148, 0.01388614, 0.01690727, ..., 0.07456192, 0.0698898 ,\n",
              "        0.068047  ],\n",
              "       [0.01388614, 0.01690727, 0.02109298, ..., 0.0698898 , 0.068047  ,\n",
              "        0.06189514],\n",
              "       [0.01690727, 0.02109298, 0.02115463, ..., 0.068047  , 0.06189514,\n",
              "        0.06842378],\n",
              "       ...,\n",
              "       [0.83010341, 0.84110805, 0.83286147, ..., 0.99528382, 0.98586493,\n",
              "        0.9805695 ],\n",
              "       [0.84110805, 0.83286147, 0.83699857, ..., 0.98586493, 0.9805695 ,\n",
              "        0.97637719],\n",
              "       [0.83286147, 0.83699857, 0.83491622, ..., 0.9805695 , 0.97637719,\n",
              "        0.97543954]])"
            ]
          },
          "metadata": {
            "tags": []
          },
          "execution_count": 19
        }
      ]
    },
    {
      "cell_type": "code",
      "metadata": {
        "id": "QzHtzJHlO4mv",
        "colab_type": "code",
        "colab": {
          "base_uri": "https://localhost:8080/",
          "height": 51
        },
        "outputId": "54e55390-5c9a-4937-cdf4-b6c4343bac27"
      },
      "source": [
        "y_train"
      ],
      "execution_count": 20,
      "outputs": [
        {
          "output_type": "execute_result",
          "data": {
            "text/plain": [
              "array([0.06189514, 0.06842378, 0.07453452, ..., 0.97637719, 0.97543954,\n",
              "       0.9674549 ])"
            ]
          },
          "metadata": {
            "tags": []
          },
          "execution_count": 20
        }
      ]
    },
    {
      "cell_type": "code",
      "metadata": {
        "id": "YjRTr2iePDCw",
        "colab_type": "code",
        "colab": {}
      },
      "source": [
        "# Reshaping (rnn requires that below shape) ie (batch_size,timesteps,input_dim) \n",
        "# reshape into 3 dimensions\n",
        "X_train = np.reshape(X_train, (X_train.shape[0], X_train.shape[1], 1))"
      ],
      "execution_count": 0,
      "outputs": []
    },
    {
      "cell_type": "code",
      "metadata": {
        "id": "waQm1NIrQNEi",
        "colab_type": "code",
        "colab": {
          "base_uri": "https://localhost:8080/",
          "height": 850
        },
        "outputId": "adf2a7cf-adb6-4b8e-b471-643fbe5e2dff"
      },
      "source": [
        "X_train"
      ],
      "execution_count": 22,
      "outputs": [
        {
          "output_type": "execute_result",
          "data": {
            "text/plain": [
              "array([[[0.01011148],\n",
              "        [0.01388614],\n",
              "        [0.01690727],\n",
              "        ...,\n",
              "        [0.07456192],\n",
              "        [0.0698898 ],\n",
              "        [0.068047  ]],\n",
              "\n",
              "       [[0.01388614],\n",
              "        [0.01690727],\n",
              "        [0.02109298],\n",
              "        ...,\n",
              "        [0.0698898 ],\n",
              "        [0.068047  ],\n",
              "        [0.06189514]],\n",
              "\n",
              "       [[0.01690727],\n",
              "        [0.02109298],\n",
              "        [0.02115463],\n",
              "        ...,\n",
              "        [0.068047  ],\n",
              "        [0.06189514],\n",
              "        [0.06842378]],\n",
              "\n",
              "       ...,\n",
              "\n",
              "       [[0.83010341],\n",
              "        [0.84110805],\n",
              "        [0.83286147],\n",
              "        ...,\n",
              "        [0.99528382],\n",
              "        [0.98586493],\n",
              "        [0.9805695 ]],\n",
              "\n",
              "       [[0.84110805],\n",
              "        [0.83286147],\n",
              "        [0.83699857],\n",
              "        ...,\n",
              "        [0.98586493],\n",
              "        [0.9805695 ],\n",
              "        [0.97637719]],\n",
              "\n",
              "       [[0.83286147],\n",
              "        [0.83699857],\n",
              "        [0.83491622],\n",
              "        ...,\n",
              "        [0.9805695 ],\n",
              "        [0.97637719],\n",
              "        [0.97543954]]])"
            ]
          },
          "metadata": {
            "tags": []
          },
          "execution_count": 22
        }
      ]
    },
    {
      "cell_type": "code",
      "metadata": {
        "id": "ms9ipHMiQQA3",
        "colab_type": "code",
        "colab": {
          "base_uri": "https://localhost:8080/",
          "height": 34
        },
        "outputId": "8ada0563-adcd-4f02-cdd9-fb4fbf0cf6ff"
      },
      "source": [
        "X_train.shape  # 3 dimensions"
      ],
      "execution_count": 23,
      "outputs": [
        {
          "output_type": "execute_result",
          "data": {
            "text/plain": [
              "(1198, 60, 1)"
            ]
          },
          "metadata": {
            "tags": []
          },
          "execution_count": 23
        }
      ]
    },
    {
      "cell_type": "code",
      "metadata": {
        "id": "XCfLVT8BRPrx",
        "colab_type": "code",
        "colab": {}
      },
      "source": [
        "# Part 2 - Building the RNN\n",
        "\n",
        "# Importing the Keras libraries and packages\n",
        "from keras.models import Sequential # we use  Sequential\n",
        "from keras.layers import Dense  # we use Dense layer to create a neuron, it is only output layer\n",
        "from keras.layers import LSTM \n",
        "from keras.layers import Dropout # each and every epoch which and all neuron gives output as 0 that neurons are deactivated"
      ],
      "execution_count": 0,
      "outputs": []
    },
    {
      "cell_type": "code",
      "metadata": {
        "id": "detV8qdPRelW",
        "colab_type": "code",
        "colab": {
          "base_uri": "https://localhost:8080/",
          "height": 71
        },
        "outputId": "6de1438d-4890-4791-d47a-1576064712a3"
      },
      "source": [
        "# Initialising the RNN\n",
        "regressor = Sequential()   # sequential layer\n",
        "\n"
      ],
      "execution_count": 26,
      "outputs": [
        {
          "output_type": "stream",
          "text": [
            "WARNING:tensorflow:From /usr/local/lib/python3.6/dist-packages/keras/backend/tensorflow_backend.py:66: The name tf.get_default_graph is deprecated. Please use tf.compat.v1.get_default_graph instead.\n",
            "\n"
          ],
          "name": "stdout"
        }
      ]
    },
    {
      "cell_type": "code",
      "metadata": {
        "id": "dRHUJOMQSQvE",
        "colab_type": "code",
        "colab": {
          "base_uri": "https://localhost:8080/",
          "height": 190
        },
        "outputId": "35af3e94-6729-48d1-b97d-280d7d984fd2"
      },
      "source": [
        "# Adding the first LSTM layer and some Dropout regularisation\n",
        "regressor.add(LSTM(units = 50, return_sequences = True, input_shape = (X_train.shape[1], 1)))\n",
        "regressor.add(Dropout(0.2)) \n",
        "# units means neurons"
      ],
      "execution_count": 27,
      "outputs": [
        {
          "output_type": "stream",
          "text": [
            "WARNING:tensorflow:From /usr/local/lib/python3.6/dist-packages/keras/backend/tensorflow_backend.py:541: The name tf.placeholder is deprecated. Please use tf.compat.v1.placeholder instead.\n",
            "\n",
            "WARNING:tensorflow:From /usr/local/lib/python3.6/dist-packages/keras/backend/tensorflow_backend.py:4432: The name tf.random_uniform is deprecated. Please use tf.random.uniform instead.\n",
            "\n",
            "WARNING:tensorflow:From /usr/local/lib/python3.6/dist-packages/keras/backend/tensorflow_backend.py:148: The name tf.placeholder_with_default is deprecated. Please use tf.compat.v1.placeholder_with_default instead.\n",
            "\n",
            "WARNING:tensorflow:From /usr/local/lib/python3.6/dist-packages/keras/backend/tensorflow_backend.py:3733: calling dropout (from tensorflow.python.ops.nn_ops) with keep_prob is deprecated and will be removed in a future version.\n",
            "Instructions for updating:\n",
            "Please use `rate` instead of `keep_prob`. Rate should be set to `rate = 1 - keep_prob`.\n"
          ],
          "name": "stdout"
        }
      ]
    },
    {
      "cell_type": "code",
      "metadata": {
        "id": "cW4FbLaaSso9",
        "colab_type": "code",
        "colab": {}
      },
      "source": [
        "# Adding a second LSTM layer and some Dropout regularisation\n",
        "regressor.add(LSTM(units = 50, return_sequences = True))\n",
        "regressor.add(Dropout(0.2))"
      ],
      "execution_count": 0,
      "outputs": []
    },
    {
      "cell_type": "code",
      "metadata": {
        "id": "tVzc698hS7eI",
        "colab_type": "code",
        "colab": {}
      },
      "source": [
        "# Adding a third LSTM layer and some Dropout regularisation\n",
        "regressor.add(LSTM(units = 50, return_sequences = True))\n",
        "regressor.add(Dropout(0.2))"
      ],
      "execution_count": 0,
      "outputs": []
    },
    {
      "cell_type": "code",
      "metadata": {
        "id": "BUuvjAxIS-s3",
        "colab_type": "code",
        "colab": {}
      },
      "source": [
        "# Adding a fourth LSTM layer and some Dropout regularisation\n",
        "regressor.add(LSTM(units = 50))\n",
        "regressor.add(Dropout(0.2))\n"
      ],
      "execution_count": 0,
      "outputs": []
    },
    {
      "cell_type": "code",
      "metadata": {
        "id": "JxOzRiwYTCjv",
        "colab_type": "code",
        "colab": {}
      },
      "source": [
        "# Adding the output layer\n",
        "regressor.add(Dense(units = 1))"
      ],
      "execution_count": 0,
      "outputs": []
    },
    {
      "cell_type": "code",
      "metadata": {
        "id": "Z80Kwzo9TE9l",
        "colab_type": "code",
        "colab": {
          "base_uri": "https://localhost:8080/",
          "height": 71
        },
        "outputId": "9efa541f-d74e-4128-a106-17c0425940a7"
      },
      "source": [
        "# Compiling the RNN\n",
        "regressor.compile(optimizer = 'adam', loss = 'mean_squared_error')\n",
        "# loss is redusing"
      ],
      "execution_count": 32,
      "outputs": [
        {
          "output_type": "stream",
          "text": [
            "WARNING:tensorflow:From /usr/local/lib/python3.6/dist-packages/keras/optimizers.py:793: The name tf.train.Optimizer is deprecated. Please use tf.compat.v1.train.Optimizer instead.\n",
            "\n"
          ],
          "name": "stdout"
        }
      ]
    },
    {
      "cell_type": "code",
      "metadata": {
        "id": "_glEreH5THHp",
        "colab_type": "code",
        "colab": {
          "base_uri": "https://localhost:8080/",
          "height": 1000
        },
        "outputId": "37294ad0-b846-4cad-9697-fb369c6561ec"
      },
      "source": [
        "# Fitting the RNN to the Training set\n",
        "regressor.fit(X_train, y_train, epochs = 100, batch_size = 32)"
      ],
      "execution_count": 33,
      "outputs": [
        {
          "output_type": "stream",
          "text": [
            "WARNING:tensorflow:From /usr/local/lib/python3.6/dist-packages/tensorflow_core/python/ops/math_grad.py:1424: where (from tensorflow.python.ops.array_ops) is deprecated and will be removed in a future version.\n",
            "Instructions for updating:\n",
            "Use tf.where in 2.0, which has the same broadcast rule as np.where\n",
            "WARNING:tensorflow:From /usr/local/lib/python3.6/dist-packages/keras/backend/tensorflow_backend.py:1033: The name tf.assign_add is deprecated. Please use tf.compat.v1.assign_add instead.\n",
            "\n",
            "WARNING:tensorflow:From /usr/local/lib/python3.6/dist-packages/keras/backend/tensorflow_backend.py:1020: The name tf.assign is deprecated. Please use tf.compat.v1.assign instead.\n",
            "\n",
            "WARNING:tensorflow:From /usr/local/lib/python3.6/dist-packages/keras/backend/tensorflow_backend.py:3005: The name tf.Session is deprecated. Please use tf.compat.v1.Session instead.\n",
            "\n",
            "Epoch 1/100\n",
            "WARNING:tensorflow:From /usr/local/lib/python3.6/dist-packages/keras/backend/tensorflow_backend.py:190: The name tf.get_default_session is deprecated. Please use tf.compat.v1.get_default_session instead.\n",
            "\n",
            "WARNING:tensorflow:From /usr/local/lib/python3.6/dist-packages/keras/backend/tensorflow_backend.py:197: The name tf.ConfigProto is deprecated. Please use tf.compat.v1.ConfigProto instead.\n",
            "\n",
            "WARNING:tensorflow:From /usr/local/lib/python3.6/dist-packages/keras/backend/tensorflow_backend.py:207: The name tf.global_variables is deprecated. Please use tf.compat.v1.global_variables instead.\n",
            "\n",
            "WARNING:tensorflow:From /usr/local/lib/python3.6/dist-packages/keras/backend/tensorflow_backend.py:216: The name tf.is_variable_initialized is deprecated. Please use tf.compat.v1.is_variable_initialized instead.\n",
            "\n",
            "WARNING:tensorflow:From /usr/local/lib/python3.6/dist-packages/keras/backend/tensorflow_backend.py:223: The name tf.variables_initializer is deprecated. Please use tf.compat.v1.variables_initializer instead.\n",
            "\n",
            "1198/1198 [==============================] - 18s 15ms/step - loss: 0.0410\n",
            "Epoch 2/100\n",
            "1198/1198 [==============================] - 12s 10ms/step - loss: 0.0044\n",
            "Epoch 3/100\n",
            "1198/1198 [==============================] - 12s 10ms/step - loss: 0.0039\n",
            "Epoch 4/100\n",
            "1198/1198 [==============================] - 12s 10ms/step - loss: 0.0041\n",
            "Epoch 5/100\n",
            "1198/1198 [==============================] - 12s 10ms/step - loss: 0.0042\n",
            "Epoch 6/100\n",
            "1198/1198 [==============================] - 12s 10ms/step - loss: 0.0035\n",
            "Epoch 7/100\n",
            "1198/1198 [==============================] - 12s 10ms/step - loss: 0.0035\n",
            "Epoch 8/100\n",
            "1198/1198 [==============================] - 12s 10ms/step - loss: 0.0032\n",
            "Epoch 9/100\n",
            "1198/1198 [==============================] - 12s 10ms/step - loss: 0.0031\n",
            "Epoch 10/100\n",
            "1198/1198 [==============================] - 12s 10ms/step - loss: 0.0031\n",
            "Epoch 11/100\n",
            "1198/1198 [==============================] - 12s 10ms/step - loss: 0.0031\n",
            "Epoch 12/100\n",
            "1198/1198 [==============================] - 12s 10ms/step - loss: 0.0031\n",
            "Epoch 13/100\n",
            "1198/1198 [==============================] - 12s 10ms/step - loss: 0.0025\n",
            "Epoch 14/100\n",
            "1198/1198 [==============================] - 12s 10ms/step - loss: 0.0030\n",
            "Epoch 15/100\n",
            "1198/1198 [==============================] - 12s 10ms/step - loss: 0.0026\n",
            "Epoch 16/100\n",
            "1198/1198 [==============================] - 12s 10ms/step - loss: 0.0025\n",
            "Epoch 17/100\n",
            "1198/1198 [==============================] - 12s 10ms/step - loss: 0.0027\n",
            "Epoch 18/100\n",
            "1198/1198 [==============================] - 12s 10ms/step - loss: 0.0025\n",
            "Epoch 19/100\n",
            "1198/1198 [==============================] - 12s 10ms/step - loss: 0.0023\n",
            "Epoch 20/100\n",
            "1198/1198 [==============================] - 12s 10ms/step - loss: 0.0026\n",
            "Epoch 21/100\n",
            "1198/1198 [==============================] - 12s 10ms/step - loss: 0.0022\n",
            "Epoch 22/100\n",
            "1198/1198 [==============================] - 12s 10ms/step - loss: 0.0025\n",
            "Epoch 23/100\n",
            "1198/1198 [==============================] - 12s 10ms/step - loss: 0.0027\n",
            "Epoch 24/100\n",
            "1198/1198 [==============================] - 12s 10ms/step - loss: 0.0024\n",
            "Epoch 25/100\n",
            "1198/1198 [==============================] - 12s 10ms/step - loss: 0.0023\n",
            "Epoch 26/100\n",
            "1198/1198 [==============================] - 12s 10ms/step - loss: 0.0023\n",
            "Epoch 27/100\n",
            "1198/1198 [==============================] - 12s 10ms/step - loss: 0.0023\n",
            "Epoch 28/100\n",
            "1198/1198 [==============================] - 12s 10ms/step - loss: 0.0020\n",
            "Epoch 29/100\n",
            "1198/1198 [==============================] - 12s 10ms/step - loss: 0.0022\n",
            "Epoch 30/100\n",
            "1198/1198 [==============================] - 12s 10ms/step - loss: 0.0021\n",
            "Epoch 31/100\n",
            "1198/1198 [==============================] - 12s 10ms/step - loss: 0.0020\n",
            "Epoch 32/100\n",
            "1198/1198 [==============================] - 12s 10ms/step - loss: 0.0023\n",
            "Epoch 33/100\n",
            "1198/1198 [==============================] - 12s 10ms/step - loss: 0.0022\n",
            "Epoch 34/100\n",
            "1198/1198 [==============================] - 12s 10ms/step - loss: 0.0021\n",
            "Epoch 35/100\n",
            "1198/1198 [==============================] - 12s 10ms/step - loss: 0.0021\n",
            "Epoch 36/100\n",
            "1198/1198 [==============================] - 12s 10ms/step - loss: 0.0022\n",
            "Epoch 37/100\n",
            "1198/1198 [==============================] - 12s 10ms/step - loss: 0.0020\n",
            "Epoch 38/100\n",
            "1198/1198 [==============================] - 12s 10ms/step - loss: 0.0021\n",
            "Epoch 39/100\n",
            "1198/1198 [==============================] - 12s 10ms/step - loss: 0.0022\n",
            "Epoch 40/100\n",
            "1198/1198 [==============================] - 12s 10ms/step - loss: 0.0027\n",
            "Epoch 41/100\n",
            "1198/1198 [==============================] - 12s 10ms/step - loss: 0.0020\n",
            "Epoch 42/100\n",
            "1198/1198 [==============================] - 12s 10ms/step - loss: 0.0020\n",
            "Epoch 43/100\n",
            "1198/1198 [==============================] - 12s 10ms/step - loss: 0.0019\n",
            "Epoch 44/100\n",
            "1198/1198 [==============================] - 12s 10ms/step - loss: 0.0017\n",
            "Epoch 45/100\n",
            "1198/1198 [==============================] - 12s 10ms/step - loss: 0.0017\n",
            "Epoch 46/100\n",
            "1198/1198 [==============================] - 12s 10ms/step - loss: 0.0021\n",
            "Epoch 47/100\n",
            "1198/1198 [==============================] - 12s 10ms/step - loss: 0.0017\n",
            "Epoch 48/100\n",
            "1198/1198 [==============================] - 12s 10ms/step - loss: 0.0018\n",
            "Epoch 49/100\n",
            "1198/1198 [==============================] - 12s 10ms/step - loss: 0.0016\n",
            "Epoch 50/100\n",
            "1198/1198 [==============================] - 12s 10ms/step - loss: 0.0016\n",
            "Epoch 51/100\n",
            "1198/1198 [==============================] - 12s 10ms/step - loss: 0.0016\n",
            "Epoch 52/100\n",
            "1198/1198 [==============================] - 12s 10ms/step - loss: 0.0016\n",
            "Epoch 53/100\n",
            "1198/1198 [==============================] - 12s 10ms/step - loss: 0.0016\n",
            "Epoch 54/100\n",
            "1198/1198 [==============================] - 12s 10ms/step - loss: 0.0016\n",
            "Epoch 55/100\n",
            "1198/1198 [==============================] - 12s 10ms/step - loss: 0.0018\n",
            "Epoch 56/100\n",
            "1198/1198 [==============================] - 12s 10ms/step - loss: 0.0018\n",
            "Epoch 57/100\n",
            "1198/1198 [==============================] - 12s 10ms/step - loss: 0.0014\n",
            "Epoch 58/100\n",
            "1198/1198 [==============================] - 12s 10ms/step - loss: 0.0015\n",
            "Epoch 59/100\n",
            "1198/1198 [==============================] - 12s 10ms/step - loss: 0.0016\n",
            "Epoch 60/100\n",
            "1198/1198 [==============================] - 12s 10ms/step - loss: 0.0015\n",
            "Epoch 61/100\n",
            "1198/1198 [==============================] - 12s 10ms/step - loss: 0.0015\n",
            "Epoch 62/100\n",
            "1198/1198 [==============================] - 12s 10ms/step - loss: 0.0015\n",
            "Epoch 63/100\n",
            "1198/1198 [==============================] - 12s 10ms/step - loss: 0.0015\n",
            "Epoch 64/100\n",
            "1198/1198 [==============================] - 12s 10ms/step - loss: 0.0014\n",
            "Epoch 65/100\n",
            "1198/1198 [==============================] - 12s 10ms/step - loss: 0.0014\n",
            "Epoch 66/100\n",
            "1198/1198 [==============================] - 12s 10ms/step - loss: 0.0015\n",
            "Epoch 67/100\n",
            "1198/1198 [==============================] - 12s 10ms/step - loss: 0.0014\n",
            "Epoch 68/100\n",
            "1198/1198 [==============================] - 12s 10ms/step - loss: 0.0014\n",
            "Epoch 69/100\n",
            "1198/1198 [==============================] - 12s 10ms/step - loss: 0.0014\n",
            "Epoch 70/100\n",
            "1198/1198 [==============================] - 12s 10ms/step - loss: 0.0013\n",
            "Epoch 71/100\n",
            "1198/1198 [==============================] - 12s 10ms/step - loss: 0.0013\n",
            "Epoch 72/100\n",
            "1198/1198 [==============================] - 12s 10ms/step - loss: 0.0014\n",
            "Epoch 73/100\n",
            "1198/1198 [==============================] - 12s 10ms/step - loss: 0.0014\n",
            "Epoch 74/100\n",
            "1198/1198 [==============================] - 12s 10ms/step - loss: 0.0013\n",
            "Epoch 75/100\n",
            "1198/1198 [==============================] - 12s 10ms/step - loss: 0.0012\n",
            "Epoch 76/100\n",
            "1198/1198 [==============================] - 12s 10ms/step - loss: 0.0014\n",
            "Epoch 77/100\n",
            "1198/1198 [==============================] - 12s 10ms/step - loss: 0.0012\n",
            "Epoch 78/100\n",
            "1198/1198 [==============================] - 12s 10ms/step - loss: 0.0012\n",
            "Epoch 79/100\n",
            "1198/1198 [==============================] - 12s 10ms/step - loss: 0.0012\n",
            "Epoch 80/100\n",
            "1198/1198 [==============================] - 12s 10ms/step - loss: 0.0014\n",
            "Epoch 81/100\n",
            "1198/1198 [==============================] - 12s 10ms/step - loss: 0.0012\n",
            "Epoch 82/100\n",
            "1198/1198 [==============================] - 12s 10ms/step - loss: 0.0012\n",
            "Epoch 83/100\n",
            "1198/1198 [==============================] - 12s 10ms/step - loss: 0.0011\n",
            "Epoch 84/100\n",
            "1198/1198 [==============================] - 12s 10ms/step - loss: 0.0013\n",
            "Epoch 85/100\n",
            "1198/1198 [==============================] - 12s 10ms/step - loss: 0.0012\n",
            "Epoch 86/100\n",
            "1198/1198 [==============================] - 12s 10ms/step - loss: 0.0011\n",
            "Epoch 87/100\n",
            "1198/1198 [==============================] - 12s 10ms/step - loss: 0.0013\n",
            "Epoch 88/100\n",
            "1198/1198 [==============================] - 12s 10ms/step - loss: 0.0011\n",
            "Epoch 89/100\n",
            "1198/1198 [==============================] - 12s 10ms/step - loss: 0.0011\n",
            "Epoch 90/100\n",
            "1198/1198 [==============================] - 12s 10ms/step - loss: 0.0012\n",
            "Epoch 91/100\n",
            "1198/1198 [==============================] - 12s 10ms/step - loss: 9.9379e-04\n",
            "Epoch 92/100\n",
            "1198/1198 [==============================] - 12s 10ms/step - loss: 0.0010\n",
            "Epoch 93/100\n",
            "1198/1198 [==============================] - 12s 10ms/step - loss: 0.0013\n",
            "Epoch 94/100\n",
            "1198/1198 [==============================] - 12s 10ms/step - loss: 0.0010\n",
            "Epoch 95/100\n",
            "1198/1198 [==============================] - 12s 10ms/step - loss: 0.0010\n",
            "Epoch 96/100\n",
            "1198/1198 [==============================] - 12s 10ms/step - loss: 0.0010\n",
            "Epoch 97/100\n",
            "1198/1198 [==============================] - 12s 10ms/step - loss: 0.0010\n",
            "Epoch 98/100\n",
            "1198/1198 [==============================] - 12s 10ms/step - loss: 0.0011\n",
            "Epoch 99/100\n",
            "1198/1198 [==============================] - 12s 10ms/step - loss: 8.9556e-04\n",
            "Epoch 100/100\n",
            "1198/1198 [==============================] - 12s 10ms/step - loss: 9.7235e-04\n"
          ],
          "name": "stdout"
        },
        {
          "output_type": "execute_result",
          "data": {
            "text/plain": [
              "<keras.callbacks.History at 0x7ff0cddaacf8>"
            ]
          },
          "metadata": {
            "tags": []
          },
          "execution_count": 33
        }
      ]
    },
    {
      "cell_type": "code",
      "metadata": {
        "id": "jMgsGqzpTLaA",
        "colab_type": "code",
        "colab": {
          "base_uri": "https://localhost:8080/",
          "height": 204
        },
        "outputId": "3da22c6f-6f96-4bb1-be60-52d593e7f415"
      },
      "source": [
        "# Part 3 - Making the predictions and visualising the results\n",
        "\n",
        "# Getting the real stock price of 2017\n",
        "dataset_test1 = pd.read_csv('/content/drive/My Drive/Colab Notebooks/Stock Prediction using LSTM Recurrent Neural Network_googledta/testset.csv')\n",
        "dataset_test=dataset_test1.drop([\"Adj Close\"],axis=1)\n",
        "dataset_test.head() # it is a real test data"
      ],
      "execution_count": 40,
      "outputs": [
        {
          "output_type": "execute_result",
          "data": {
            "text/html": [
              "<div>\n",
              "<style scoped>\n",
              "    .dataframe tbody tr th:only-of-type {\n",
              "        vertical-align: middle;\n",
              "    }\n",
              "\n",
              "    .dataframe tbody tr th {\n",
              "        vertical-align: top;\n",
              "    }\n",
              "\n",
              "    .dataframe thead th {\n",
              "        text-align: right;\n",
              "    }\n",
              "</style>\n",
              "<table border=\"1\" class=\"dataframe\">\n",
              "  <thead>\n",
              "    <tr style=\"text-align: right;\">\n",
              "      <th></th>\n",
              "      <th>Date</th>\n",
              "      <th>Open</th>\n",
              "      <th>High</th>\n",
              "      <th>Low</th>\n",
              "      <th>Close</th>\n",
              "      <th>Volume</th>\n",
              "    </tr>\n",
              "  </thead>\n",
              "  <tbody>\n",
              "    <tr>\n",
              "      <th>0</th>\n",
              "      <td>2018-01-02</td>\n",
              "      <td>1048.339966</td>\n",
              "      <td>1066.939941</td>\n",
              "      <td>1045.229980</td>\n",
              "      <td>1065.000000</td>\n",
              "      <td>1237600</td>\n",
              "    </tr>\n",
              "    <tr>\n",
              "      <th>1</th>\n",
              "      <td>2018-01-03</td>\n",
              "      <td>1064.310059</td>\n",
              "      <td>1086.290039</td>\n",
              "      <td>1063.209961</td>\n",
              "      <td>1082.479980</td>\n",
              "      <td>1430200</td>\n",
              "    </tr>\n",
              "    <tr>\n",
              "      <th>2</th>\n",
              "      <td>2018-01-04</td>\n",
              "      <td>1088.000000</td>\n",
              "      <td>1093.569946</td>\n",
              "      <td>1084.001953</td>\n",
              "      <td>1086.400024</td>\n",
              "      <td>1004600</td>\n",
              "    </tr>\n",
              "    <tr>\n",
              "      <th>3</th>\n",
              "      <td>2018-01-05</td>\n",
              "      <td>1094.000000</td>\n",
              "      <td>1104.250000</td>\n",
              "      <td>1092.000000</td>\n",
              "      <td>1102.229980</td>\n",
              "      <td>1279100</td>\n",
              "    </tr>\n",
              "    <tr>\n",
              "      <th>4</th>\n",
              "      <td>2018-01-08</td>\n",
              "      <td>1102.229980</td>\n",
              "      <td>1111.270020</td>\n",
              "      <td>1101.619995</td>\n",
              "      <td>1106.939941</td>\n",
              "      <td>1047600</td>\n",
              "    </tr>\n",
              "  </tbody>\n",
              "</table>\n",
              "</div>"
            ],
            "text/plain": [
              "         Date         Open         High          Low        Close   Volume\n",
              "0  2018-01-02  1048.339966  1066.939941  1045.229980  1065.000000  1237600\n",
              "1  2018-01-03  1064.310059  1086.290039  1063.209961  1082.479980  1430200\n",
              "2  2018-01-04  1088.000000  1093.569946  1084.001953  1086.400024  1004600\n",
              "3  2018-01-05  1094.000000  1104.250000  1092.000000  1102.229980  1279100\n",
              "4  2018-01-08  1102.229980  1111.270020  1101.619995  1106.939941  1047600"
            ]
          },
          "metadata": {
            "tags": []
          },
          "execution_count": 40
        }
      ]
    },
    {
      "cell_type": "code",
      "metadata": {
        "id": "ofT2_U3yYW1n",
        "colab_type": "code",
        "colab": {
          "base_uri": "https://localhost:8080/",
          "height": 1000
        },
        "outputId": "9664ef45-aea1-4343-c4ad-303f1dadf07a"
      },
      "source": [
        "real_stock_price = dataset_test.iloc[:, 1:2].values\n",
        "real_stock_price"
      ],
      "execution_count": 41,
      "outputs": [
        {
          "output_type": "execute_result",
          "data": {
            "text/plain": [
              "array([[1048.339966],\n",
              "       [1064.310059],\n",
              "       [1088.      ],\n",
              "       [1094.      ],\n",
              "       [1102.22998 ],\n",
              "       [1109.400024],\n",
              "       [1097.099976],\n",
              "       [1106.300049],\n",
              "       [1102.410034],\n",
              "       [1132.51001 ],\n",
              "       [1126.219971],\n",
              "       [1131.410034],\n",
              "       [1131.829956],\n",
              "       [1137.48999 ],\n",
              "       [1159.849976],\n",
              "       [1177.329956],\n",
              "       [1172.530029],\n",
              "       [1175.079956],\n",
              "       [1176.47998 ],\n",
              "       [1167.829956],\n",
              "       [1170.569946],\n",
              "       [1162.609985],\n",
              "       [1122.      ],\n",
              "       [1090.599976],\n",
              "       [1027.180054],\n",
              "       [1081.540039],\n",
              "       [1055.410034],\n",
              "       [1017.25    ],\n",
              "       [1048.      ],\n",
              "       [1045.      ],\n",
              "       [1048.949951],\n",
              "       [1079.069946],\n",
              "       [1088.410034],\n",
              "       [1090.569946],\n",
              "       [1106.469971],\n",
              "       [1116.189941],\n",
              "       [1112.640015],\n",
              "       [1127.800049],\n",
              "       [1141.23999 ],\n",
              "       [1123.030029],\n",
              "       [1107.869995],\n",
              "       [1053.079956],\n",
              "       [1075.140015],\n",
              "       [1099.219971],\n",
              "       [1089.189941],\n",
              "       [1115.319946],\n",
              "       [1136.      ],\n",
              "       [1163.849976],\n",
              "       [1170.      ],\n",
              "       [1145.209961],\n",
              "       [1149.959961],\n",
              "       [1154.140015],\n",
              "       [1120.01001 ],\n",
              "       [1099.      ],\n",
              "       [1092.73999 ],\n",
              "       [1081.880005],\n",
              "       [1047.030029],\n",
              "       [1046.      ],\n",
              "       [1063.      ],\n",
              "       [ 998.      ],\n",
              "       [1011.630005],\n",
              "       [1022.820007],\n",
              "       [1013.909973],\n",
              "       [ 993.409973],\n",
              "       [1041.329956],\n",
              "       [1020.      ],\n",
              "       [1016.799988],\n",
              "       [1026.439941],\n",
              "       [1027.98999 ],\n",
              "       [1025.040039],\n",
              "       [1040.880005],\n",
              "       [1037.      ],\n",
              "       [1051.369995],\n",
              "       [1077.430054],\n",
              "       [1069.400024],\n",
              "       [1082.      ],\n",
              "       [1077.859985],\n",
              "       [1052.      ],\n",
              "       [1025.52002 ],\n",
              "       [1029.51001 ],\n",
              "       [1046.      ],\n",
              "       [1030.01001 ],\n",
              "       [1013.659973],\n",
              "       [1028.099976],\n",
              "       [1019.      ],\n",
              "       [1016.900024],\n",
              "       [1049.22998 ],\n",
              "       [1058.540039],\n",
              "       [1058.099976],\n",
              "       [1086.030029],\n",
              "       [1093.599976],\n",
              "       [1100.      ],\n",
              "       [1090.      ],\n",
              "       [1077.310059],\n",
              "       [1079.890015],\n",
              "       [1061.859985],\n",
              "       [1074.060059],\n",
              "       [1083.560059],\n",
              "       [1065.130005],\n",
              "       [1079.      ],\n",
              "       [1079.02002 ],\n",
              "       [1064.890015],\n",
              "       [1063.030029],\n",
              "       [1067.560059],\n",
              "       [1099.349976],\n",
              "       [1122.329956],\n",
              "       [1140.98999 ],\n",
              "       [1142.170044],\n",
              "       [1131.319946],\n",
              "       [1118.180054],\n",
              "       [1118.599976],\n",
              "       [1131.069946],\n",
              "       [1141.119995],\n",
              "       [1143.849976],\n",
              "       [1148.859985],\n",
              "       [1143.650024],\n",
              "       [1158.5     ],\n",
              "       [1175.310059],\n",
              "       [1174.849976],\n",
              "       [1159.140015],\n",
              "       [1143.599976],\n",
              "       [1128.      ],\n",
              "       [1121.339966],\n",
              "       [1102.089966],\n",
              "       [1120.      ]])"
            ]
          },
          "metadata": {
            "tags": []
          },
          "execution_count": 41
        }
      ]
    },
    {
      "cell_type": "code",
      "metadata": {
        "id": "uJhrz7r8YbZl",
        "colab_type": "code",
        "colab": {}
      },
      "source": [
        "# Getting the predicted stock price of 2017\n",
        "dataset_total = pd.concat((dataset_train['Open'], dataset_test['Open']), axis = 0)\n",
        "inputs = dataset_total[len(dataset_total) - len(dataset_test) - 60:].values\n",
        "inputs = inputs.reshape(-1,1)\n",
        "inputs = sc.transform(inputs)\n",
        "X_test = []\n",
        "for i in range(60, 80):\n",
        "    X_test.append(inputs[i-60:i, 0])\n",
        "X_test = np.array(X_test)\n",
        "X_test = np.reshape(X_test, (X_test.shape[0], X_test.shape[1], 1))\n",
        "predicted_stock_price = regressor.predict(X_test)\n",
        "predicted_stock_price = sc.inverse_transform(predicted_stock_price)"
      ],
      "execution_count": 0,
      "outputs": []
    },
    {
      "cell_type": "code",
      "metadata": {
        "id": "T06SSoEqZhKQ",
        "colab_type": "code",
        "colab": {
          "base_uri": "https://localhost:8080/",
          "height": 357
        },
        "outputId": "a434e992-5bfa-4e95-ad0a-bf47604b1932"
      },
      "source": [
        "predicted_stock_price # it is a predicted stock price data in month of jan 2017 ( only 1st 20 records )"
      ],
      "execution_count": 44,
      "outputs": [
        {
          "output_type": "execute_result",
          "data": {
            "text/plain": [
              "array([[1042.146 ],\n",
              "       [1040.7411],\n",
              "       [1042.7185],\n",
              "       [1050.521 ],\n",
              "       [1061.5483],\n",
              "       [1072.3916],\n",
              "       [1080.9945],\n",
              "       [1084.3186],\n",
              "       [1084.6301],\n",
              "       [1083.5249],\n",
              "       [1086.8579],\n",
              "       [1092.947 ],\n",
              "       [1099.5751],\n",
              "       [1104.7654],\n",
              "       [1108.6163],\n",
              "       [1114.4769],\n",
              "       [1123.9191],\n",
              "       [1133.1111],\n",
              "       [1139.6298],\n",
              "       [1143.1486]], dtype=float32)"
            ]
          },
          "metadata": {
            "tags": []
          },
          "execution_count": 44
        }
      ]
    },
    {
      "cell_type": "code",
      "metadata": {
        "id": "YWOR3acOZD5w",
        "colab_type": "code",
        "colab": {
          "base_uri": "https://localhost:8080/",
          "height": 641
        },
        "outputId": "9c6c84df-ce74-4a17-b179-9292fa8b12e8"
      },
      "source": [
        "# Visualising the results\n",
        "plt.figure(figsize=(30,10))\n",
        "plt.plot(real_stock_price, color = 'red', label = 'Real Google Stock Price')\n",
        "plt.plot(predicted_stock_price, color = 'blue', label = 'Predicted Google Stock Price')\n",
        "plt.title('Google Stock Price Prediction')\n",
        "plt.xlabel('Time')\n",
        "plt.ylabel('Google Stock Price')\n",
        "plt.legend()\n",
        "plt.show()\n"
      ],
      "execution_count": 54,
      "outputs": [
        {
          "output_type": "display_data",
          "data": {
            "image/png": "[encoded data removed]",
            "text/plain": [
              "<Figure size 2160x720 with 1 Axes>"
            ]
          },
          "metadata": {
            "tags": []
          }
        }
      ]
    },
    {
      "cell_type": "code",
      "metadata": {
        "id": "ct1ZRU7xZGP-",
        "colab_type": "code",
        "colab": {}
      },
      "source": [
        ""
      ],
      "execution_count": 0,
      "outputs": []
    }
  ]
}